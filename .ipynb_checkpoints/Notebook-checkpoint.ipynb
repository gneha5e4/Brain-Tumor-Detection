{
 "cells": [
  {
   "cell_type": "markdown",
   "metadata": {
    "execution": {
     "iopub.execute_input": "2022-07-07T00:07:46.377018Z",
     "iopub.status.busy": "2022-07-07T00:07:46.37667Z",
     "iopub.status.idle": "2022-07-07T00:07:46.384388Z",
     "shell.execute_reply": "2022-07-07T00:07:46.382921Z",
     "shell.execute_reply.started": "2022-07-07T00:07:46.376989Z"
    }
   },
   "source": [
    "# Importing Libraries"
   ]
  },
  {
   "cell_type": "code",
   "execution_count": 1,
   "metadata": {
    "execution": {
     "iopub.execute_input": "2023-04-13T11:27:15.730262Z",
     "iopub.status.busy": "2023-04-13T11:27:15.729896Z",
     "iopub.status.idle": "2023-04-13T11:27:24.974976Z",
     "shell.execute_reply": "2023-04-13T11:27:24.973891Z",
     "shell.execute_reply.started": "2023-04-13T11:27:15.730229Z"
    }
   },
   "outputs": [],
   "source": [
    "import pandas as pd\n",
    "import pathlib\n",
    "import tensorflow as tf\n",
    "import matplotlib.pyplot as plt\n",
    "import numpy as np\n",
    "import os\n",
    "import splitfolders\n",
    "import PIL\n",
    "from tensorflow.keras.optimizers import Adam\n",
    "from tensorflow.keras.callbacks import Callback, EarlyStopping, ModelCheckpoint\n",
    "import glob\n",
    "from tensorflow.keras.layers import Conv2D, MaxPooling2D, Activation, Flatten, Dense, Dropout, BatchNormalization"
   ]
  },
  {
   "cell_type": "markdown",
   "metadata": {},
   "source": [
    "# Importing Dataset"
   ]
  },
  {
   "cell_type": "code",
   "execution_count": 2,
   "metadata": {
    "execution": {
     "iopub.execute_input": "2023-04-13T11:27:24.977917Z",
     "iopub.status.busy": "2023-04-13T11:27:24.976708Z",
     "iopub.status.idle": "2023-04-13T11:27:24.984229Z",
     "shell.execute_reply": "2023-04-13T11:27:24.983026Z",
     "shell.execute_reply.started": "2023-04-13T11:27:24.977876Z"
    }
   },
   "outputs": [],
   "source": [
    "import splitfolders\n",
    "class config:\n",
    "    \n",
    "    data_path = 'Dataset/'\n",
    "    \n",
    "    path_train = \"./output/train\"\n",
    "    path_test = \"./output/test\""
   ]
  },
  {
   "cell_type": "code",
   "execution_count": 3,
   "metadata": {
    "execution": {
     "iopub.execute_input": "2023-04-13T11:27:24.988085Z",
     "iopub.status.busy": "2023-04-13T11:27:24.987031Z",
     "iopub.status.idle": "2023-04-13T11:33:28.980752Z",
     "shell.execute_reply": "2023-04-13T11:33:28.979651Z",
     "shell.execute_reply.started": "2023-04-13T11:27:24.988045Z"
    }
   },
   "outputs": [
    {
     "name": "stderr",
     "output_type": "stream",
     "text": [
      "Copying files: 3000 files [00:02, 1156.20 files/s]\n"
     ]
    }
   ],
   "source": [
    "splitfolders.ratio(config.data_path, output=\"output\", seed=101, ratio=(.8, .2))"
   ]
  },
  {
   "cell_type": "code",
   "execution_count": 4,
   "metadata": {
    "execution": {
     "iopub.execute_input": "2023-04-13T11:33:28.984095Z",
     "iopub.status.busy": "2023-04-13T11:33:28.983780Z",
     "iopub.status.idle": "2023-04-13T11:33:28.990509Z",
     "shell.execute_reply": "2023-04-13T11:33:28.989064Z",
     "shell.execute_reply.started": "2023-04-13T11:33:28.984065Z"
    }
   },
   "outputs": [],
   "source": [
    "IMAGE_SIZE = [224,224]"
   ]
  },
  {
   "cell_type": "code",
   "execution_count": 5,
   "metadata": {
    "execution": {
     "iopub.execute_input": "2023-04-13T11:33:28.992712Z",
     "iopub.status.busy": "2023-04-13T11:33:28.991772Z",
     "iopub.status.idle": "2023-04-13T11:33:29.000055Z",
     "shell.execute_reply": "2023-04-13T11:33:28.998973Z",
     "shell.execute_reply.started": "2023-04-13T11:33:28.992684Z"
    }
   },
   "outputs": [],
   "source": [
    "TRAIN_PATH = \"output/train\"\n",
    "VAL_PATH = \"output/val\"\n",
    "\n",
    "PATHS = [TRAIN_PATH, VAL_PATH]\n",
    "\n"
   ]
  },
  {
   "cell_type": "code",
   "execution_count": 6,
   "metadata": {
    "execution": {
     "iopub.execute_input": "2023-04-13T11:33:29.002001Z",
     "iopub.status.busy": "2023-04-13T11:33:29.001634Z",
     "iopub.status.idle": "2023-04-13T11:33:29.010461Z",
     "shell.execute_reply": "2023-04-13T11:33:29.009458Z",
     "shell.execute_reply.started": "2023-04-13T11:33:29.001966Z"
    }
   },
   "outputs": [],
   "source": [
    "BATCH_SIZE = 64\n",
    "EPOCHS = 5\n",
    "IMAGE_SHAPE = (224, 224)"
   ]
  },
  {
   "cell_type": "code",
   "execution_count": 7,
   "metadata": {
    "execution": {
     "iopub.execute_input": "2023-04-13T11:33:29.013529Z",
     "iopub.status.busy": "2023-04-13T11:33:29.012834Z",
     "iopub.status.idle": "2023-04-13T11:33:31.734680Z",
     "shell.execute_reply": "2023-04-13T11:33:31.733623Z",
     "shell.execute_reply.started": "2023-04-13T11:33:29.013494Z"
    }
   },
   "outputs": [
    {
     "name": "stdout",
     "output_type": "stream",
     "text": [
      "Found 2400 images belonging to 2 classes.\n",
      "Found 600 images belonging to 2 classes.\n"
     ]
    }
   ],
   "source": [
    "datagen = tf.keras.preprocessing.image.ImageDataGenerator(rescale=1/255)\n",
    "\n",
    "train_gen = datagen.flow_from_directory(directory = TRAIN_PATH, \n",
    "                                          class_mode=\"categorical\",\n",
    "                                          target_size = IMAGE_SHAPE,\n",
    "                                          batch_size = BATCH_SIZE,\n",
    "                                          color_mode='rgb',\n",
    "                                          seed = 1234,\n",
    "                                          shuffle = True)\n",
    "\n",
    "val_gen = datagen.flow_from_directory(directory = VAL_PATH, \n",
    "                                          class_mode=\"categorical\",\n",
    "                                          target_size = IMAGE_SHAPE,\n",
    "                                          batch_size = BATCH_SIZE,\n",
    "                                          color_mode='rgb',\n",
    "                                          seed = 1234,\n",
    "                                          shuffle = True)"
   ]
  },
  {
   "cell_type": "markdown",
   "metadata": {},
   "source": [
    "# Resnet 50"
   ]
  },
  {
   "cell_type": "code",
   "execution_count": 8,
   "metadata": {
    "execution": {
     "iopub.execute_input": "2023-04-13T11:33:31.736681Z",
     "iopub.status.busy": "2023-04-13T11:33:31.736313Z",
     "iopub.status.idle": "2023-04-13T11:33:35.394089Z",
     "shell.execute_reply": "2023-04-13T11:33:35.393040Z",
     "shell.execute_reply.started": "2023-04-13T11:33:31.736643Z"
    }
   },
   "outputs": [],
   "source": [
    "from tensorflow.keras.models import Model\n",
    "import tensorflow as tf\n",
    "\n",
    "resnet_base_model = tf.keras.applications.resnet50.ResNet50(include_top=False, weights='imagenet', input_shape=(224, 224, 3), pooling='max')"
   ]
  },
  {
   "cell_type": "code",
   "execution_count": 9,
   "metadata": {
    "execution": {
     "iopub.execute_input": "2023-04-13T11:33:35.398933Z",
     "iopub.status.busy": "2023-04-13T11:33:35.398630Z",
     "iopub.status.idle": "2023-04-13T11:33:35.404721Z",
     "shell.execute_reply": "2023-04-13T11:33:35.403254Z",
     "shell.execute_reply.started": "2023-04-13T11:33:35.398905Z"
    }
   },
   "outputs": [],
   "source": [
    "resnet_base_model.trainable = False"
   ]
  },
  {
   "cell_type": "code",
   "execution_count": 10,
   "metadata": {
    "execution": {
     "iopub.execute_input": "2023-04-13T11:33:35.407714Z",
     "iopub.status.busy": "2023-04-13T11:33:35.406669Z",
     "iopub.status.idle": "2023-04-13T11:33:35.479656Z",
     "shell.execute_reply": "2023-04-13T11:33:35.478759Z",
     "shell.execute_reply.started": "2023-04-13T11:33:35.407677Z"
    }
   },
   "outputs": [],
   "source": [
    "inputs = resnet_base_model.input\n",
    "\n",
    "x = BatchNormalization()(resnet_base_model.output)\n",
    "x = Dense(1024, activation='relu')(x)\n",
    "x = Dropout(0.45, seed=1234)(x)\n",
    "x = Dense(512, activation='relu')(x)\n",
    "x = Dropout(0.45, seed=1235)(x)\n",
    "x = Flatten()(x)\n",
    "\n",
    "outputs = Dense(2, activation='softmax')(x)\n",
    "\n",
    "resnet_model = Model(inputs=inputs, outputs=outputs)"
   ]
  },
  {
   "cell_type": "code",
   "execution_count": 11,
   "metadata": {
    "execution": {
     "iopub.execute_input": "2023-04-13T11:33:35.481558Z",
     "iopub.status.busy": "2023-04-13T11:33:35.481168Z",
     "iopub.status.idle": "2023-04-13T11:33:35.501417Z",
     "shell.execute_reply": "2023-04-13T11:33:35.500514Z",
     "shell.execute_reply.started": "2023-04-13T11:33:35.481523Z"
    }
   },
   "outputs": [],
   "source": [
    "resnet_model.compile(\n",
    "    optimizer=Adam(0.0001),\n",
    "    loss='categorical_crossentropy',\n",
    "    metrics=['accuracy']\n",
    ")"
   ]
  },
  {
   "cell_type": "code",
   "execution_count": 12,
   "metadata": {
    "execution": {
     "iopub.execute_input": "2023-04-13T11:33:35.511427Z",
     "iopub.status.busy": "2023-04-13T11:33:35.511009Z",
     "iopub.status.idle": "2023-04-13T11:33:35.519140Z",
     "shell.execute_reply": "2023-04-13T11:33:35.517940Z",
     "shell.execute_reply.started": "2023-04-13T11:33:35.511391Z"
    }
   },
   "outputs": [],
   "source": [
    "CHECKPOINT_PATH_MODEL_FIRST = \"first_version\"\n",
    "checkpoint_callback = tf.keras.callbacks.ModelCheckpoint(CHECKPOINT_PATH_MODEL_FIRST,\n",
    "                                      monitor='val_loss',\n",
    "                                      save_best_only=True)"
   ]
  },
  {
   "cell_type": "code",
   "execution_count": 13,
   "metadata": {
    "execution": {
     "iopub.execute_input": "2023-04-13T11:33:35.521168Z",
     "iopub.status.busy": "2023-04-13T11:33:35.520809Z",
     "iopub.status.idle": "2023-04-13T11:33:35.530019Z",
     "shell.execute_reply": "2023-04-13T11:33:35.529080Z",
     "shell.execute_reply.started": "2023-04-13T11:33:35.521133Z"
    }
   },
   "outputs": [],
   "source": [
    "early_stopping = EarlyStopping(monitor='val_loss', patience = 2, restore_best_weights=True)"
   ]
  },
  {
   "cell_type": "code",
   "execution_count": 14,
   "metadata": {
    "execution": {
     "iopub.execute_input": "2023-04-13T11:33:35.532339Z",
     "iopub.status.busy": "2023-04-13T11:33:35.531917Z",
     "iopub.status.idle": "2023-04-13T11:49:38.092200Z",
     "shell.execute_reply": "2023-04-13T11:49:38.091101Z",
     "shell.execute_reply.started": "2023-04-13T11:33:35.532275Z"
    }
   },
   "outputs": [
    {
     "name": "stdout",
     "output_type": "stream",
     "text": [
      "Epoch 1/20\n",
      "38/38 [==============================] - ETA: 0s - loss: 0.6365 - accuracy: 0.7029WARNING:tensorflow:From C:\\Users\\TruProjects\\AppData\\Roaming\\Python\\Python37\\site-packages\\tensorflow\\python\\training\\tracking\\tracking.py:111: Model.state_updates (from tensorflow.python.keras.engine.training) is deprecated and will be removed in a future version.\n",
      "Instructions for updating:\n",
      "This property should not be used in TensorFlow 2.0, as updates are applied automatically.\n",
      "WARNING:tensorflow:From C:\\Users\\TruProjects\\AppData\\Roaming\\Python\\Python37\\site-packages\\tensorflow\\python\\training\\tracking\\tracking.py:111: Layer.updates (from tensorflow.python.keras.engine.base_layer) is deprecated and will be removed in a future version.\n",
      "Instructions for updating:\n",
      "This property should not be used in TensorFlow 2.0, as updates are applied automatically.\n",
      "INFO:tensorflow:Assets written to: first_version\\assets\n",
      "38/38 [==============================] - 127s 3s/step - loss: 0.6365 - accuracy: 0.7029 - val_loss: 0.7948 - val_accuracy: 0.5683\n",
      "Epoch 2/20\n",
      "38/38 [==============================] - ETA: 0s - loss: 0.5011 - accuracy: 0.7725INFO:tensorflow:Assets written to: first_version\\assets\n",
      "38/38 [==============================] - 131s 3s/step - loss: 0.5011 - accuracy: 0.7725 - val_loss: 0.6488 - val_accuracy: 0.6550\n",
      "Epoch 3/20\n",
      "38/38 [==============================] - ETA: 0s - loss: 0.4300 - accuracy: 0.8017INFO:tensorflow:Assets written to: first_version\\assets\n",
      "38/38 [==============================] - 128s 3s/step - loss: 0.4300 - accuracy: 0.8017 - val_loss: 0.4856 - val_accuracy: 0.7650\n",
      "Epoch 4/20\n",
      "38/38 [==============================] - ETA: 0s - loss: 0.3840 - accuracy: 0.8233INFO:tensorflow:Assets written to: first_version\\assets\n",
      "38/38 [==============================] - 132s 3s/step - loss: 0.3840 - accuracy: 0.8233 - val_loss: 0.4521 - val_accuracy: 0.7850\n",
      "Epoch 5/20\n",
      "38/38 [==============================] - ETA: 0s - loss: 0.3530 - accuracy: 0.8367INFO:tensorflow:Assets written to: first_version\\assets\n",
      "38/38 [==============================] - 141s 4s/step - loss: 0.3530 - accuracy: 0.8367 - val_loss: 0.4001 - val_accuracy: 0.8167\n",
      "Epoch 6/20\n",
      "38/38 [==============================] - ETA: 0s - loss: 0.2934 - accuracy: 0.8763INFO:tensorflow:Assets written to: first_version\\assets\n",
      "38/38 [==============================] - 141s 4s/step - loss: 0.2934 - accuracy: 0.8763 - val_loss: 0.3505 - val_accuracy: 0.8317\n",
      "Epoch 7/20\n",
      "38/38 [==============================] - ETA: 0s - loss: 0.2770 - accuracy: 0.8833INFO:tensorflow:Assets written to: first_version\\assets\n",
      "38/38 [==============================] - 135s 4s/step - loss: 0.2770 - accuracy: 0.8833 - val_loss: 0.3172 - val_accuracy: 0.8500\n",
      "Epoch 8/20\n",
      "38/38 [==============================] - ETA: 0s - loss: 0.2581 - accuracy: 0.8925INFO:tensorflow:Assets written to: first_version\\assets\n",
      "38/38 [==============================] - 144s 4s/step - loss: 0.2581 - accuracy: 0.8925 - val_loss: 0.2866 - val_accuracy: 0.8683\n",
      "Epoch 9/20\n",
      "38/38 [==============================] - ETA: 0s - loss: 0.2171 - accuracy: 0.9079INFO:tensorflow:Assets written to: first_version\\assets\n",
      "38/38 [==============================] - 147s 4s/step - loss: 0.2171 - accuracy: 0.9079 - val_loss: 0.2604 - val_accuracy: 0.8883\n",
      "Epoch 10/20\n",
      "38/38 [==============================] - ETA: 0s - loss: 0.1882 - accuracy: 0.9275INFO:tensorflow:Assets written to: first_version\\assets\n",
      "38/38 [==============================] - 136s 4s/step - loss: 0.1882 - accuracy: 0.9275 - val_loss: 0.2451 - val_accuracy: 0.8967\n",
      "Epoch 11/20\n",
      "38/38 [==============================] - 146s 4s/step - loss: 0.1778 - accuracy: 0.9300 - val_loss: 0.2497 - val_accuracy: 0.8917\n",
      "Epoch 12/20\n",
      "38/38 [==============================] - ETA: 0s - loss: 0.1723 - accuracy: 0.9304INFO:tensorflow:Assets written to: first_version\\assets\n",
      "38/38 [==============================] - 163s 4s/step - loss: 0.1723 - accuracy: 0.9304 - val_loss: 0.2144 - val_accuracy: 0.9217\n",
      "Epoch 13/20\n",
      "38/38 [==============================] - ETA: 0s - loss: 0.1564 - accuracy: 0.9371INFO:tensorflow:Assets written to: first_version\\assets\n",
      "38/38 [==============================] - 259s 7s/step - loss: 0.1564 - accuracy: 0.9371 - val_loss: 0.2072 - val_accuracy: 0.9167\n",
      "Epoch 14/20\n",
      "38/38 [==============================] - ETA: 0s - loss: 0.1357 - accuracy: 0.9446INFO:tensorflow:Assets written to: first_version\\assets\n",
      "38/38 [==============================] - 237s 6s/step - loss: 0.1357 - accuracy: 0.9446 - val_loss: 0.1886 - val_accuracy: 0.9283\n",
      "Epoch 15/20\n",
      "38/38 [==============================] - 201s 5s/step - loss: 0.1256 - accuracy: 0.9521 - val_loss: 0.1942 - val_accuracy: 0.9333\n",
      "Epoch 16/20\n",
      "38/38 [==============================] - 200s 5s/step - loss: 0.1331 - accuracy: 0.9525 - val_loss: 0.1986 - val_accuracy: 0.9150\n"
     ]
    }
   ],
   "source": [
    "history = resnet_model.fit(train_gen, epochs=20, validation_data=val_gen, callbacks=[checkpoint_callback, early_stopping])"
   ]
  },
  {
   "cell_type": "code",
   "execution_count": 15,
   "metadata": {
    "execution": {
     "iopub.execute_input": "2023-04-13T11:49:38.097292Z",
     "iopub.status.busy": "2023-04-13T11:49:38.096151Z",
     "iopub.status.idle": "2023-04-13T11:49:38.268516Z",
     "shell.execute_reply": "2023-04-13T11:49:38.267446Z",
     "shell.execute_reply.started": "2023-04-13T11:49:38.097245Z"
    }
   },
   "outputs": [],
   "source": [
    "resnet_model.save('resnet50.h5')"
   ]
  },
  {
   "cell_type": "code",
   "execution_count": 16,
   "metadata": {
    "execution": {
     "iopub.execute_input": "2023-04-13T11:49:38.271428Z",
     "iopub.status.busy": "2023-04-13T11:49:38.270641Z",
     "iopub.status.idle": "2023-04-13T11:49:38.718300Z",
     "shell.execute_reply": "2023-04-13T11:49:38.717234Z",
     "shell.execute_reply.started": "2023-04-13T11:49:38.271387Z"
    }
   },
   "outputs": [
    {
     "data": {
      "image/png": "[encoded data removed]",
      "text/plain": [
       "<Figure size 1440x720 with 2 Axes>"
      ]
     },
     "metadata": {
      "needs_background": "light"
     },
     "output_type": "display_data"
    }
   ],
   "source": [
    "import matplotlib.pyplot as plt\n",
    "\n",
    "x=history\n",
    "plt.figure(figsize=(20,10))\n",
    "plt.subplot(1, 2, 1)\n",
    "plt.suptitle('Optimizer : adam', fontsize=10)\n",
    "plt.ylabel('Loss', fontsize=16)\n",
    "plt.plot(x.history['loss'], label='Training Loss')\n",
    "plt.plot(x.history['val_loss'], label='Validation Loss')\n",
    "plt.legend(loc='upper right')\n",
    "\n",
    "plt.subplot(1, 2, 2)\n",
    "plt.ylabel('Accuracy', fontsize=16)\n",
    "plt.plot(x.history['accuracy'], label='Training Accuracy')\n",
    "plt.plot(x.history['val_accuracy'], label='Validation Accuracy')\n",
    "plt.legend(loc='lower right')\n",
    "plt.show()"
   ]
  }
 ],
 "metadata": {
  "kernelspec": {
   "display_name": "Python 3",
   "language": "python",
   "name": "python3"
  },
  "language_info": {
   "codemirror_mode": {
    "name": "ipython",
    "version": 3
   },
   "file_extension": ".py",
   "mimetype": "text/x-python",
   "name": "python",
   "nbconvert_exporter": "python",
   "pygments_lexer": "ipython3",
   "version": "3.7.4"
  }
 },
 "nbformat": 4,
 "nbformat_minor": 4
}
